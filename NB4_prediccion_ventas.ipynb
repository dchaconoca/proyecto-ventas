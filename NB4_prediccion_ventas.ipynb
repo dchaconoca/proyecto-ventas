{
 "cells": [
  {
   "cell_type": "code",
   "execution_count": null,
   "id": "9966e2fe",
   "metadata": {},
   "outputs": [],
   "source": []
  }
 ],
 "metadata": {
  "language_info": {
   "name": "python"
  },
  "orig_nbformat": 4
 },
 "nbformat": 4,
 "nbformat_minor": 2
}
