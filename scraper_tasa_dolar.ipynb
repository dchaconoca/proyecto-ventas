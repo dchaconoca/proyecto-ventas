{
 "cells": [
  {
   "cell_type": "markdown",
   "metadata": {
    "id": "krZd9xoHIhYW"
   },
   "source": [
    "# Scraper tasa de cambio Dólar"
   ]
  },
  {
   "cell_type": "code",
   "execution_count": 36,
   "metadata": {
    "executionInfo": {
     "elapsed": 425,
     "status": "ok",
     "timestamp": 1643855155843,
     "user": {
      "displayName": "Diana Chacón Ocariz",
      "photoUrl": "https://lh3.googleusercontent.com/a-/AOh14GirccJ7uDRYtLJdxHNbGKpJ5asgEi9Qd_EKTc8R8g=s64",
      "userId": "02614308027712170459"
     },
     "user_tz": 240
    },
    "id": "FpocsoAHIrfi"
   },
   "outputs": [],
   "source": [
    "import requests\n",
    "from bs4 import BeautifulSoup\n",
    "# Para saber el encoding utilizado por el servidor\n",
    "import chardet\n",
    "\n",
    "# Leer la página del URL y devolver un objeto BeautifulSoup\n",
    "\n",
    "def devolver_soup(url):\n",
    "    # Eliminamos el '/' del final, si existe\n",
    "    # Da error 403 si se deja\n",
    "    if url[len(url)-1] == '/':\n",
    "        url = url[:len(url)-1]\n",
    "    \n",
    "    # Obtenemos la página\n",
    "    try:\n",
    "        resp = requests.get(url)\n",
    "    except Exception as e:\n",
    "        print('Error obteniendo la página. Excepción ',e)\n",
    "        return url\n",
    "    \n",
    "    if resp.status_code != 200:\n",
    "        print('Error obteniendo la página. Status Code', resp.status_code)\n",
    "        return url\n",
    "    \n",
    "    # Para saber el encoding utilizado por el servidor\n",
    "    # print(chardet.detect(resp.content))\n",
    "    \n",
    "    # Para especificar el tipo de encoding y \n",
    "    # obtener correctamente los caracteres acentuados\n",
    "    resp.encoding = \"utf-8\"\n",
    "    contenido = resp.content\n",
    "    soup = BeautifulSoup(contenido, 'lxml')    \n",
    "\n",
    "    return soup"
   ]
  },
  {
   "cell_type": "code",
   "execution_count": 37,
   "metadata": {
    "executionInfo": {
     "elapsed": 253,
     "status": "ok",
     "timestamp": 1643855161257,
     "user": {
      "displayName": "Diana Chacón Ocariz",
      "photoUrl": "https://lh3.googleusercontent.com/a-/AOh14GirccJ7uDRYtLJdxHNbGKpJ5asgEi9Qd_EKTc8R8g=s64",
      "userId": "02614308027712170459"
     },
     "user_tz": 240
    },
    "id": "Nv0g0oFTNnGY"
   },
   "outputs": [],
   "source": [
    "import re\n",
    "\n",
    "# Función general que extrae datos numéricos \n",
    "# de una cadena de caracteres. Devuelve un float\n",
    "\n",
    "# Elimina los \"'\" y los puntos de mil\n",
    "# Reemplaza las \",\" decimales por \".\"\n",
    "# Extrae una cifra y la devuelve como float\n",
    "def extraer_numero(cadena):\n",
    "    \n",
    "    result = cadena.replace(\"'\", '').replace('.', '').replace(',', '.')\n",
    "    \n",
    "    result = re.findall(r'-?\\d+\\.?\\d*', result)[0]\n",
    "    \n",
    "    return float(result)\n",
    " "
   ]
  },
  {
   "cell_type": "code",
   "execution_count": 38,
   "metadata": {
    "executionInfo": {
     "elapsed": 2562,
     "status": "ok",
     "timestamp": 1643855167824,
     "user": {
      "displayName": "Diana Chacón Ocariz",
      "photoUrl": "https://lh3.googleusercontent.com/a-/AOh14GirccJ7uDRYtLJdxHNbGKpJ5asgEi9Qd_EKTc8R8g=s64",
      "userId": "02614308027712170459"
     },
     "user_tz": 240
    },
    "id": "XTIQ-qLkI1FQ"
   },
   "outputs": [],
   "source": [
    "# Extraemos los datos del dólar\n",
    "\n",
    "URL='https://monitordolarvenezuela.com/historial#2a'\n",
    "\n",
    "soup = devolver_soup(URL)\n",
    "\n",
    "# Extraemos la tabla y sus datos\n",
    "datos = soup.find('table', attrs={'class':'zui-table'}).find_all('tr')"
   ]
  },
  {
   "cell_type": "code",
   "execution_count": 39,
   "metadata": {
    "executionInfo": {
     "elapsed": 259,
     "status": "ok",
     "timestamp": 1643855173527,
     "user": {
      "displayName": "Diana Chacón Ocariz",
      "photoUrl": "https://lh3.googleusercontent.com/a-/AOh14GirccJ7uDRYtLJdxHNbGKpJ5asgEi9Qd_EKTc8R8g=s64",
      "userId": "02614308027712170459"
     },
     "user_tz": 240
    },
    "id": "JYnCxnpwPSIx"
   },
   "outputs": [],
   "source": [
    "# Extraemos la información de cada línea de la tabla\n",
    "result = []\n",
    "\n",
    "for dato in datos:\n",
    "\n",
    "  tasas = dato.find_all('td')\n",
    "\n",
    "  if tasas:\n",
    "\n",
    "    dic['fecha'] = tasas[0].text.strip()\n",
    "    dic['alta'] = extraer_numero(tasas[1].text.strip())\n",
    "    dic['baja'] = extraer_numero(tasas[2].text.strip())\n",
    "\n",
    "    result.append(dic)\n",
    "    "
   ]
  },
  {
   "cell_type": "code",
   "execution_count": 41,
   "metadata": {
    "executionInfo": {
     "elapsed": 307,
     "status": "ok",
     "timestamp": 1643855732838,
     "user": {
      "displayName": "Diana Chacón Ocariz",
      "photoUrl": "https://lh3.googleusercontent.com/a-/AOh14GirccJ7uDRYtLJdxHNbGKpJ5asgEi9Qd_EKTc8R8g=s64",
      "userId": "02614308027712170459"
     },
     "user_tz": 240
    },
    "id": "xbhFctLPZ3Xk"
   },
   "outputs": [],
   "source": [
    "# Guardamos el resultado en un archivo CSV\n",
    "import pandas as pd\n",
    "from pathlib import Path\n",
    "\n",
    "BASE_DIR = Path.cwd()\n",
    "FILE= 'datos/in/tasa_dolar.csv'"
   ]
  },
  {
   "cell_type": "code",
   "execution_count": 43,
   "metadata": {
    "executionInfo": {
     "elapsed": 275,
     "status": "ok",
     "timestamp": 1643855847674,
     "user": {
      "displayName": "Diana Chacón Ocariz",
      "photoUrl": "https://lh3.googleusercontent.com/a-/AOh14GirccJ7uDRYtLJdxHNbGKpJ5asgEi9Qd_EKTc8R8g=s64",
      "userId": "02614308027712170459"
     },
     "user_tz": 240
    },
    "id": "Swbmt8yDbhH-"
   },
   "outputs": [],
   "source": [
    "df = pd.DataFrame(result)\n",
    "df.to_csv(f\"{BASE_DIR / FILE}\", sep=';')"
   ]
  }
 ],
 "metadata": {
  "colab": {
   "authorship_tag": "ABX9TyMf4WRTI76glcFYddpa0Wty",
   "collapsed_sections": [],
   "mount_file_id": "1WzLTL4UzwgdZZZ57eM9fuUmDyiWptE3y",
   "name": "scraper_tasa_dolar.ipynb",
   "provenance": []
  },
  "kernelspec": {
   "display_name": "Python 3 (ipykernel)",
   "language": "python",
   "name": "python3"
  },
  "language_info": {
   "codemirror_mode": {
    "name": "ipython",
    "version": 3
   },
   "file_extension": ".py",
   "mimetype": "text/x-python",
   "name": "python",
   "nbconvert_exporter": "python",
   "pygments_lexer": "ipython3",
   "version": "3.8.8"
  }
 },
 "nbformat": 4,
 "nbformat_minor": 1
}
