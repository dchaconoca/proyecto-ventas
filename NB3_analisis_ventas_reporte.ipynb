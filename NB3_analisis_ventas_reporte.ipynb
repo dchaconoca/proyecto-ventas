{
 "cells": [
  {
   "cell_type": "markdown",
   "id": "aca2e158",
   "metadata": {},
   "source": [
    "# Estudio de las Ventas de una Ferretería\n",
    "\n",
    ">Autor: Diana Chacón Ocariz\n",
    "\n",
    "## Contexto:\n",
    "\n",
    "Se trata de estudiar las ventas de una pequeña ferretería a partir del 01/01/2020.\n",
    "\n",
    "Esta empresa maneja un poco más de 3.000 productos distintos. Poseen un software de gestión genérico que les provee una gran cantidad de reportes, básicamente tablas con números, díficiles de analizar (un reporte puede constar de varias decenas de páginas).\n",
    "\n",
    "Por otro lado, los montos manejados están en Bs (Bolívares, moneda nacional venezolana). Durante el período de estudio, las grandes tasas de inflación, además de un cambio de moneda (eliminación de 6 ceros), dificultan el análisis. Por eso ha sido necesario transformar los montos a dólares según la tasa del día.\n",
    "\n",
    "\n",
    "## Objetivos del negocio:\n",
    "\n",
    "**Tener más visibilidad sobre las ventas para poder mejorar el proceso de compras y la toma de decisiones en general:** \n",
    "\n",
    "    - Analizar objetivamente las ventas.\n",
    "    - Identificar los productos más vendidos y que no pueden faltar (productos indispensables).\n",
    "    - Determinar los productos que podrían entrar en rotura de stock al final de un período.\n",
    "    - Predecir las ventas futuras.\n",
    "    \n",
    "\n",
    "## Objetivos académicos:\n",
    "\n",
    "    - Estudiar un caso real, con datos reales y cuyo resultado pueda ayudar a alguien a resolver un problema. \n",
    "    - Demostrar que la ciencia de datos puede ayudar a cualquier empresa, incluso PYMES.\n",
    "    - Conocer y practicar el uso de herramientas de ciencia de datos.\n",
    "    \n",
    "    \n",
    "## Fuentes de datos:\n",
    "\n",
    "Los datos provienen de reportes sacados del software de gestión de la empresa. Se trata de archivos .xls que contienen sólo los datos de reportes sobre facturas (2020), ventas por producto (2021 y 2022) e inventario a la fecha.\n",
    "\n",
    "También se utilizan los datos del [histórico de la tasa de cambio del dólar](https://monitordolarvenezuela.com/historial#2a) que se obtiene a través de un [scraper](https://github.com/dchaconoca/proyecto-ventas/blob/master/NB5_scraper_tasa_dolar.ipynb).\n",
    "\n",
    "Más detalles de los archivos utilizados, en el [NB1: Carga y limpieza de los Datos](https://github.com/dchaconoca/proyecto-ventas/blob/master/NB1_analisis_ventas_load.ipynb)\n",
    "\n",
    "\n",
    "## Notebooks del Estudio:\n",
    "\n",
    "1. [NB1: Carga y limpieza de los Datos](https://github.com/dchaconoca/proyecto-ventas/blob/master/NB1_analisis_ventas_load.ipynb)\n",
    "1. [NB2: EDA y Visualización de los Datos](https://github.com/dchaconoca/proyecto-ventas/blob/master/NB2_analisis_ventas_eda.ipynb)\n",
    "1. [NB3: Reporte Análisis de Ventas](https://github.com/dchaconoca/proyecto-ventas/blob/master/NB3_analisis_ventas_reporte.ipynb)\n",
    "1. [NB4: Predicción de Ventas - Estudio de una Serie Temporal](https://github.com/dchaconoca/proyecto-ventas/blob/master/NB4_prediccion_ventas.ipynb)\n",
    "1. [NB5: Scraper Tasa de Cambio Dólar](https://github.com/dchaconoca/proyecto-ventas/blob/master/NB5_scraper_tasa_dolar.ipynb)\n",
    "\n",
    "\n",
    "## Reporte de Análisis de Ventas:\n",
    "\n",
    "1. [Reporte en Google Data Studio](https://datastudio.google.com/reporting/a4e9910d-447d-417a-80a9-a1e5ae4a4b22)\n",
    "\n",
    "## Instrucciones para la ejecución del proyecto:\n",
    "\n",
    "1. Debe ejecutarse primero el NB1 que se encarga de cargar los datos brutos (raw). Los archivos con los datos se encuentran en el subdirectorio **datos/in**\n",
    "2. En el mismo subdirectorio, también se encuentra el archivo **tasa_dolar.csv** que contiene el histórico de las tasas de cambio del día hasta el 01/03/2022. Si este archivo no está presente, puede ejecutarse el NB5\n",
    "3. Una vez ejecutado el NB1, obtendremos en el subdirectorio **datos/out** todos los archivos con los datos necesarios para la ejecución de los notebooks NB2, NB3 y NB4. La ejecución de cada notebook es independiente\n",
    "    "
   ]
  },
  {
   "cell_type": "code",
   "execution_count": null,
   "id": "78940462",
   "metadata": {},
   "outputs": [],
   "source": []
  },
  {
   "cell_type": "code",
   "execution_count": null,
   "id": "8cd315ea",
   "metadata": {},
   "outputs": [],
   "source": []
  },
  {
   "cell_type": "code",
   "execution_count": null,
   "id": "763ba72c",
   "metadata": {},
   "outputs": [],
   "source": []
  },
  {
   "cell_type": "code",
   "execution_count": null,
   "id": "7b829397",
   "metadata": {},
   "outputs": [],
   "source": []
  },
  {
   "cell_type": "code",
   "execution_count": null,
   "id": "3c5d1f11",
   "metadata": {},
   "outputs": [],
   "source": []
  },
  {
   "cell_type": "code",
   "execution_count": null,
   "id": "08521880",
   "metadata": {},
   "outputs": [],
   "source": []
  },
  {
   "cell_type": "code",
   "execution_count": null,
   "id": "37f910ac",
   "metadata": {},
   "outputs": [],
   "source": []
  },
  {
   "cell_type": "code",
   "execution_count": null,
   "id": "240b779a",
   "metadata": {},
   "outputs": [],
   "source": []
  },
  {
   "cell_type": "code",
   "execution_count": null,
   "id": "e9c65461",
   "metadata": {},
   "outputs": [],
   "source": []
  }
 ],
 "metadata": {
  "kernelspec": {
   "display_name": "Python 3 (ipykernel)",
   "language": "python",
   "name": "python3"
  },
  "language_info": {
   "codemirror_mode": {
    "name": "ipython",
    "version": 3
   },
   "file_extension": ".py",
   "mimetype": "text/x-python",
   "name": "python",
   "nbconvert_exporter": "python",
   "pygments_lexer": "ipython3",
   "version": "3.8.8"
  }
 },
 "nbformat": 4,
 "nbformat_minor": 5
}
