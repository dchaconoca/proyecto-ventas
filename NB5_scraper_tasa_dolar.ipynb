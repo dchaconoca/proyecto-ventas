{
 "cells": [
  {
   "cell_type": "markdown",
   "metadata": {
    "id": "krZd9xoHIhYW"
   },
   "source": [
    "# Estudio de las Ventas de una Ferretería\n",
    "## NB5: Scraper Tasa de Cambio Dólar\n",
    "\n",
    ">Autor: Diana Chacón Ocariz\n",
    "\n",
    "## Contexto:\n",
    "\n",
    "En los últimos años Venezuela ha sufrido de hiperinflación, lo que dificulta el estudio de datos monetarios en Bs (Bolívares, moneda nacional venezolana). Además, en octubre del 2021 se produjo una reconversión monetaria y se le eliminaron 6 ceros a la moneda.\n",
    "\n",
    "Por eso se suelen transformar los montos a una moneda más estable, principalmente el dólar. \n",
    "\n",
    "En este NB leemos la URL https://monitordolarvenezuela.com/historial#2a para extraer el histórico de las tasas de cambio diarias de Bs a USD utilizando la librería *BeautifulSoup*.\n",
    "\n",
    "El histórico es almacenado en un archivo CSV que luego es utilizado para transformar los montos monetarios."
   ]
  },
  {
   "cell_type": "code",
   "execution_count": 1,
   "metadata": {
    "id": "FpocsoAHIrfi"
   },
   "outputs": [],
   "source": [
    "import requests\n",
    "from bs4 import BeautifulSoup\n",
    "# Para saber el encoding utilizado por el servidor\n",
    "import chardet\n",
    "\n",
    "# Leer la página del URL y devolver un objeto BeautifulSoup\n",
    "\n",
    "def devolver_soup(url):\n",
    "    # Eliminamos el '/' del final, si existe\n",
    "    # Da error 403 si se deja\n",
    "    if url[len(url)-1] == '/':\n",
    "        url = url[:len(url)-1]\n",
    "    \n",
    "    # Obtenemos la página\n",
    "    try:\n",
    "        resp = requests.get(url)\n",
    "    except Exception as e:\n",
    "        print('Error obteniendo la página. Excepción ',e)\n",
    "        return url\n",
    "    \n",
    "    if resp.status_code != 200:\n",
    "        print('Error obteniendo la página. Status Code', resp.status_code)\n",
    "        return url\n",
    "    \n",
    "    # Para saber el encoding utilizado por el servidor\n",
    "    # print(chardet.detect(resp.content))\n",
    "    \n",
    "    # Para especificar el tipo de encoding y \n",
    "    # obtener correctamente los caracteres acentuados\n",
    "    resp.encoding = \"utf-8\"\n",
    "    contenido = resp.content\n",
    "    soup = BeautifulSoup(contenido, 'lxml')    \n",
    "\n",
    "    return soup"
   ]
  },
  {
   "cell_type": "code",
   "execution_count": 2,
   "metadata": {
    "id": "Nv0g0oFTNnGY"
   },
   "outputs": [],
   "source": [
    "import re\n",
    "\n",
    "# Función general que extrae datos numéricos \n",
    "# de una cadena de caracteres. Devuelve un float\n",
    "\n",
    "# Elimina los \"'\" y los puntos de mil\n",
    "# Reemplaza las \",\" decimales por \".\"\n",
    "# Extrae una cifra y la devuelve como float\n",
    "def extraer_numero(cadena):\n",
    "    \n",
    "    result = cadena.replace(\"'\", '').replace('.', '').replace(',', '.')\n",
    "    \n",
    "    result = re.findall(r'-?\\d+\\.?\\d*', result)[0]\n",
    "    \n",
    "    return float(result)\n",
    " "
   ]
  },
  {
   "cell_type": "code",
   "execution_count": 3,
   "metadata": {
    "id": "XTIQ-qLkI1FQ"
   },
   "outputs": [
    {
     "name": "stdout",
     "output_type": "stream",
     "text": [
      "Error obteniendo la página. Excepción  ('Connection aborted.', RemoteDisconnected('Remote end closed connection without response'))\n"
     ]
    },
    {
     "ename": "TypeError",
     "evalue": "find() takes no keyword arguments",
     "output_type": "error",
     "traceback": [
      "\u001b[0;31m---------------------------------------------------------------------------\u001b[0m",
      "\u001b[0;31mTypeError\u001b[0m                                 Traceback (most recent call last)",
      "\u001b[0;32m/tmp/ipykernel_14964/3585650557.py\u001b[0m in \u001b[0;36m<module>\u001b[0;34m\u001b[0m\n\u001b[1;32m      6\u001b[0m \u001b[0;34m\u001b[0m\u001b[0m\n\u001b[1;32m      7\u001b[0m \u001b[0;31m# Extraemos la tabla y sus datos\u001b[0m\u001b[0;34m\u001b[0m\u001b[0;34m\u001b[0m\u001b[0;34m\u001b[0m\u001b[0m\n\u001b[0;32m----> 8\u001b[0;31m \u001b[0mdatos\u001b[0m \u001b[0;34m=\u001b[0m \u001b[0msoup\u001b[0m\u001b[0;34m.\u001b[0m\u001b[0mfind\u001b[0m\u001b[0;34m(\u001b[0m\u001b[0;34m'table'\u001b[0m\u001b[0;34m,\u001b[0m \u001b[0mattrs\u001b[0m\u001b[0;34m=\u001b[0m\u001b[0;34m{\u001b[0m\u001b[0;34m'class'\u001b[0m\u001b[0;34m:\u001b[0m\u001b[0;34m'zui-table'\u001b[0m\u001b[0;34m}\u001b[0m\u001b[0;34m)\u001b[0m\u001b[0;34m.\u001b[0m\u001b[0mfind_all\u001b[0m\u001b[0;34m(\u001b[0m\u001b[0;34m'tr'\u001b[0m\u001b[0;34m)\u001b[0m\u001b[0;34m\u001b[0m\u001b[0;34m\u001b[0m\u001b[0m\n\u001b[0m",
      "\u001b[0;31mTypeError\u001b[0m: find() takes no keyword arguments"
     ]
    }
   ],
   "source": [
    "# Extraemos los datos del dólar\n",
    "\n",
    "URL='https://monitordolarvenezuela.com/historial#2a'\n",
    "\n",
    "soup = devolver_soup(URL)\n",
    "\n",
    "# Extraemos la tabla y sus datos\n",
    "datos = soup.find('table', attrs={'class':'zui-table'}).find_all('tr')"
   ]
  },
  {
   "cell_type": "code",
   "execution_count": null,
   "metadata": {
    "id": "JYnCxnpwPSIx"
   },
   "outputs": [],
   "source": [
    "# Extraemos la información de cada línea de la tabla\n",
    "result = []\n",
    "\n",
    "for dato in datos:\n",
    "\n",
    "  dic = {}\n",
    "  \n",
    "  tasas = dato.find_all('td')\n",
    "\n",
    "  if tasas:\n",
    "\n",
    "    dic['fecha'] = tasas[0].text.strip()\n",
    "    dic['baja'] = extraer_numero(tasas[1].text.strip())\n",
    "    dic['alta'] = extraer_numero(tasas[2].text.strip())\n",
    "\n",
    "    result.append(dic)\n",
    "    "
   ]
  },
  {
   "cell_type": "code",
   "execution_count": null,
   "metadata": {
    "id": "xbhFctLPZ3Xk"
   },
   "outputs": [],
   "source": [
    "# Guardamos el resultado en un archivo CSV\n",
    "import pandas as pd\n",
    "from pathlib import Path\n",
    "\n",
    "BASE_DIR = Path.cwd()\n",
    "FILE= 'datos/in/tasa_dolar.csv'"
   ]
  },
  {
   "cell_type": "code",
   "execution_count": null,
   "metadata": {
    "colab": {
     "base_uri": "https://localhost:8080/",
     "height": 424
    },
    "id": "Swbmt8yDbhH-",
    "outputId": "48c0811e-f9e5-4264-fcf8-1769e4856de4"
   },
   "outputs": [],
   "source": [
    "df = pd.DataFrame(result)\n",
    "df.sample(15)\n"
   ]
  },
  {
   "cell_type": "code",
   "execution_count": null,
   "metadata": {
    "id": "G9-V6bKcmeFC"
   },
   "outputs": [],
   "source": [
    "df.to_csv(f\"{BASE_DIR / FILE}\", sep=';', index=False)"
   ]
  },
  {
   "cell_type": "code",
   "execution_count": null,
   "metadata": {},
   "outputs": [],
   "source": []
  }
 ],
 "metadata": {
  "colab": {
   "collapsed_sections": [],
   "name": "scraper_tasa_dolar.ipynb",
   "provenance": []
  },
  "kernelspec": {
   "display_name": "Python 3 (ipykernel)",
   "language": "python",
   "name": "python3"
  },
  "language_info": {
   "codemirror_mode": {
    "name": "ipython",
    "version": 3
   },
   "file_extension": ".py",
   "mimetype": "text/x-python",
   "name": "python",
   "nbconvert_exporter": "python",
   "pygments_lexer": "ipython3",
   "version": "3.8.8"
  }
 },
 "nbformat": 4,
 "nbformat_minor": 1
}
